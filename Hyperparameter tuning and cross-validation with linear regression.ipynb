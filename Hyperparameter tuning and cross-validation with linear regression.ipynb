{
 "cells": [
  {
   "cell_type": "markdown",
   "id": "1a22ed2d",
   "metadata": {},
   "source": [
    "# Hyperparameter tuning and cross-validation with linear regression"
   ]
  },
  {
   "cell_type": "markdown",
   "id": "309e0304",
   "metadata": {},
   "source": [
    "This notebook demonstrates how to do cross-validation (CV) with linear regression as an example (it is heavily used in almost all modelling techniques such as decision trees, SVM etc.). We will mainly use sklearn to do cross-validation.\n",
    "\n",
    "This notebook is divided into the following parts: 0. Experiments to understand overfitting\n",
    "\n",
    "1. Building a linear regression model without cross-validation\n",
    "2. Problems in the current approach\n",
    "3. Cross-validation: A quick recap\n",
    "4. Cross-validation in sklearn:    \n",
    "    4.1 K-fold CV    \n",
    "    4.2 Hyperparameter tuning using CV    \n",
    "    4.3 Other CV schemes"
   ]
  },
  {
   "cell_type": "markdown",
   "id": "ae1f72f5",
   "metadata": {},
   "source": [
    "### 0. Experiments to Understand Overfitting"
   ]
  },
  {
   "cell_type": "markdown",
   "id": "e2ee55ef",
   "metadata": {},
   "source": [
    "In this section, let's quickly go through some experiments to understand what overfitting looks like. We'll run some experiments using polynomial regression."
   ]
  },
  {
   "cell_type": "markdown",
   "id": "8311ede0",
   "metadata": {},
   "source": [
    "### Importing Libraries"
   ]
  },
  {
   "cell_type": "code",
   "execution_count": 1,
   "id": "9e3517de",
   "metadata": {},
   "outputs": [],
   "source": [
    "# import all libraries\n",
    "import numpy as np\n",
    "import pandas as pd\n",
    "import matplotlib.pyplot as plt \n",
    "import seaborn as sns\n",
    "import re\n",
    "\n",
    "import sklearn\n",
    "from sklearn.model_selection import train_test_split\n",
    "from sklearn.preprocessing import MinMaxScaler\n",
    "from sklearn.preprocessing import PolynomialFeatures\n",
    "from sklearn.preprocessing import scale\n",
    "from sklearn.feature_selection import RFE\n",
    "from sklearn.linear_model import LinearRegression\n",
    "from sklearn.model_selection import cross_val_score\n",
    "from sklearn.model_selection import KFold\n",
    "from sklearn.model_selection import GridSearchCV\n",
    "from sklearn.pipeline import make_pipeline\n",
    "\n",
    "import warnings\n",
    "warnings.filterwarnings('ignore')"
   ]
  },
  {
   "cell_type": "code",
   "execution_count": null,
   "id": "ede92016",
   "metadata": {},
   "outputs": [],
   "source": []
  }
 ],
 "metadata": {
  "kernelspec": {
   "display_name": "Python 3 (ipykernel)",
   "language": "python",
   "name": "python3"
  },
  "language_info": {
   "codemirror_mode": {
    "name": "ipython",
    "version": 3
   },
   "file_extension": ".py",
   "mimetype": "text/x-python",
   "name": "python",
   "nbconvert_exporter": "python",
   "pygments_lexer": "ipython3",
   "version": "3.11.4"
  }
 },
 "nbformat": 4,
 "nbformat_minor": 5
}
